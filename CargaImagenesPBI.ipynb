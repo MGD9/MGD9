{
  "nbformat": 4,
  "nbformat_minor": 0,
  "metadata": {
    "colab": {
      "provenance": [],
      "authorship_tag": "ABX9TyPD4wizd6+bLqJmACd5u9MI",
      "include_colab_link": true
    },
    "kernelspec": {
      "name": "python3",
      "display_name": "Python 3"
    },
    "language_info": {
      "name": "python"
    }
  },
  "cells": [
    {
      "cell_type": "markdown",
      "metadata": {
        "id": "view-in-github",
        "colab_type": "text"
      },
      "source": [
        "<a href=\"https://colab.research.google.com/github/MGD9/MGD9/blob/main/CargaImagenesPBI.ipynb\" target=\"_parent\"><img src=\"https://colab.research.google.com/assets/colab-badge.svg\" alt=\"Open In Colab\"/></a>"
      ]
    },
    {
      "cell_type": "code",
      "execution_count": 15,
      "metadata": {
        "colab": {
          "base_uri": "https://localhost:8080/"
        },
        "id": "E48ZygQnkVY0",
        "outputId": "6f59297b-2591-4afb-dbcb-fa2732b43439"
      },
      "outputs": [
        {
          "output_type": "stream",
          "name": "stdout",
          "text": [
            "Requirement already satisfied: pillow in /usr/local/lib/python3.10/dist-packages (9.4.0)\n"
          ]
        }
      ],
      "source": [
        "!pip install pillow\n"
      ]
    },
    {
      "cell_type": "code",
      "source": [
        "from PIL import Image\n",
        "import os"
      ],
      "metadata": {
        "id": "QW_RY5oomsoK"
      },
      "execution_count": 16,
      "outputs": []
    },
    {
      "cell_type": "code",
      "source": [
        "# Ruta a la carpeta donde están las imágenes\n",
        "carpeta = r'C:\\Users\\daniel.marting\\OneDrive - Verisure\\PowerBI\\Fotos'"
      ],
      "metadata": {
        "id": "qjvELaG0mvRp"
      },
      "execution_count": 17,
      "outputs": []
    },
    {
      "cell_type": "code",
      "source": [
        "# Dimensiones estándar a las que quieres redimensionar las imágenes\n",
        "tamaño_estandar = (300, 300)  # Puedes ajustar el tamaño según tus necesidades"
      ],
      "metadata": {
        "id": "YzcuhUgEm-Pn"
      },
      "execution_count": 18,
      "outputs": []
    },
    {
      "cell_type": "code",
      "source": [
        "# Crear una carpeta para guardar las imágenes redimensionadas (opcional)\n",
        "carpeta_salida = os.path.join(carpeta, 'redimensionadas')\n",
        "os.makedirs(carpeta_salida, exist_ok=True)  # Crea la carpeta si no existe"
      ],
      "metadata": {
        "id": "E80zs__ynY2d"
      },
      "execution_count": 19,
      "outputs": []
    },
    {
      "cell_type": "code",
      "source": [
        "# Recorrer todas las imágenes en la carpeta\n",
        "for archivo in os.listdir(carpeta):\n",
        "    # Verificar que sea un archivo de imagen\n",
        "    if archivo.endswith(('.png', '.jpg', '.jpeg', '.bmp', '.gif')):\n",
        "        ruta_imagen = os.path.join(carpeta, archivo)\n",
        "        with Image.open(ruta_imagen) as img:\n",
        "            # Redimensionar la imagen\n",
        "            img = img.resize(tamaño_estandar, Image.ANTIALIAS)\n",
        "            # Guardar la imagen redimensionada en la carpeta de salida\n",
        "            img.save(os.path.join(carpeta_salida, archivo))"
      ],
      "metadata": {
        "id": "BO79LQdEnBWR"
      },
      "execution_count": 20,
      "outputs": []
    },
    {
      "cell_type": "code",
      "source": [
        "print(\"Proceso completado. Las imágenes redimensionadas se encuentran en la carpeta:\", carpeta_salida)"
      ],
      "metadata": {
        "colab": {
          "base_uri": "https://localhost:8080/"
        },
        "id": "n1IGiw5qnemw",
        "outputId": "72011776-dba9-407a-a467-d630c2c211cb"
      },
      "execution_count": 22,
      "outputs": [
        {
          "output_type": "stream",
          "name": "stdout",
          "text": [
            "Proceso completado. Las imágenes redimensionadas se encuentran en la carpeta: C:\\Users\\daniel.marting\\OneDrive - Verisure\\PowerBI\\Fotos/redimensionadas\n"
          ]
        }
      ]
    },
    {
      "cell_type": "code",
      "source": [
        "try:\n",
        "    os.makedirs(carpeta_salida, exist_ok=True)\n",
        "    print(f\"Carpeta creada en: {carpeta_salida}\")\n",
        "except Exception as e:\n",
        "    print(f\"Error al crear la carpeta: {e}\")\n"
      ],
      "metadata": {
        "colab": {
          "base_uri": "https://localhost:8080/"
        },
        "id": "8K4qs7qdqneB",
        "outputId": "8176d102-b9da-4e02-918c-ba9687e15f6f"
      },
      "execution_count": 23,
      "outputs": [
        {
          "output_type": "stream",
          "name": "stdout",
          "text": [
            "Carpeta creada en: C:\\Users\\daniel.marting\\OneDrive - Verisure\\PowerBI\\Fotos/redimensionadas\n"
          ]
        }
      ]
    },
    {
      "cell_type": "code",
      "source": [],
      "metadata": {
        "id": "HJUwcqYHqn1B"
      },
      "execution_count": null,
      "outputs": []
    }
  ]
}